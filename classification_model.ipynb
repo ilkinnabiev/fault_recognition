{
 "cells": [
  {
   "cell_type": "code",
   "execution_count": 1,
   "id": "fc5aca13-dc7b-4f1b-bdef-40ae3eac2ab4",
   "metadata": {},
   "outputs": [],
   "source": [
    "import torch\n",
    "import torch.nn as nn\n",
    "import torch.optim as optim\n",
    "from torchvision import transforms\n",
    "from torch.utils.data import DataLoader, Dataset\n",
    "\n",
    "import torchvision.models as models\n",
    "\n",
    "import datetime"
   ]
  },
  {
   "cell_type": "code",
   "execution_count": 2,
   "id": "da3800d4-c514-4b58-8b25-a9b580aebb63",
   "metadata": {},
   "outputs": [],
   "source": [
    "import random\n",
    "import numpy as np\n",
    "import os\n",
    "\n",
    "DEFAULT_RANDOM_SEED = 42\n",
    "\n",
    "def set_all_seeds(seed=DEFAULT_RANDOM_SEED):\n",
    "\n",
    "    # python's seeds\n",
    "    random.seed(seed)\n",
    "    os.environ['PYTHONHASHSEED'] = str(seed)\n",
    "    np.random.seed(seed)\n",
    "\n",
    "    # torch's seeds\n",
    "    torch.manual_seed(seed)\n",
    "    torch.cuda.manual_seed(seed)\n",
    "    torch.backends.cudnn.deterministic = True\n",
    "    torch.backends.cudnn.benchmark = False\n",
    "\n",
    "set_all_seeds(seed=DEFAULT_RANDOM_SEED)"
   ]
  },
  {
   "cell_type": "code",
   "execution_count": 3,
   "id": "de71fc7e-29ac-4fce-b86e-89c8dead0518",
   "metadata": {},
   "outputs": [],
   "source": [
    "# hyperparameter setting\n",
    "learning_rate = 0.0001\n",
    "num_epochs = 20\n",
    "batch_size = 128\n",
    "\n",
    "# device detection (CPU or GPU)\n",
    "device = torch.device('cuda' if torch.cuda.is_available() else 'cpu')\n"
   ]
  },
  {
   "cell_type": "code",
   "execution_count": 4,
   "id": "29d66d68-578a-4a89-9a18-7efc25a12f0e",
   "metadata": {},
   "outputs": [],
   "source": [
    "class ImageDataset(Dataset):\n",
    "    '''\n",
    "    Dataset class for loading and processing images and labels from NumPy arrays.\n",
    "    '''\n",
    "\n",
    "    def __init__(self, images, labels, transforms):\n",
    "        '''\n",
    "        Initialization of the dataset.\n",
    "\n",
    "        Args:\n",
    "            Images (numpy.ndarray): Numpy array with images.\n",
    "            labels (numpy.ndarray): NumPy array with labels.\n",
    "            transforms (torchvision.transforms, optional): Transforms to apply to images.\n",
    "        '''\n",
    "        \n",
    "        self.images = images\n",
    "        self.labels = labels\n",
    "        self.transforms = transforms\n",
    "\n",
    "    def __len__(self):\n",
    "        '''\n",
    "        Returns the length of the dataset (number of images).\n",
    "        '''\n",
    "        \n",
    "        return len(self.images)\n",
    "\n",
    "    def __getitem__(self, index):\n",
    "        '''\n",
    "        Returns a single element from the dataset (image and label) at the given index.\n",
    "\n",
    "        Args:\n",
    "            index (int): The index of an element in the dataset.\n",
    "\n",
    "        Returns:\n",
    "            tuple: A tuple containing the transformed image and label.\n",
    "        '''\n",
    "        \n",
    "        image = self.images[index]\n",
    "        label = self.labels[index]\n",
    "\n",
    "        # Apply transformations (if defined)\n",
    "        if self.transforms is not None:\n",
    "            image = self.transforms(image)\n",
    "\n",
    "        if isinstance(image, np.ndarray):\n",
    "            image = torch.from_numpy(image).float()\n",
    "\n",
    "        if isinstance(label, np.ndarray):\n",
    "            label = torch.from_numpy(label).long()\n",
    "\n",
    "        return image, label\n"
   ]
  },
  {
   "cell_type": "code",
   "execution_count": 5,
   "id": "6ce3bf80-7ea5-4b0c-a2f3-6a936b2570f5",
   "metadata": {},
   "outputs": [],
   "source": [
    "# load images and labels from .npy format to Numpy arrays\n",
    "images = np.load('./images.npy')\n",
    "labels = np.load('./labels.npy')\n",
    "\n",
    "# define transforms\n",
    "data_transforms = transforms.Compose([\n",
    "    transforms.ToTensor(), # to torch tensor\n",
    "    transforms.Grayscale() # to one channel\n",
    "])\n",
    "\n",
    "# defining and customizing the dataset\n",
    "dataset = ImageDataset(images, labels, transforms=data_transforms)\n",
    "\n",
    "# dividing the data set into training and test samples\n",
    "train_data, test_data = torch.utils.data.random_split(dataset, [int(0.8 * len(dataset)), int(0.2 * len(dataset))])\n",
    "\n",
    "# defining and customizing the train and test dataloaders\n",
    "train_loader = DataLoader(train_data, batch_size=batch_size, shuffle=True)\n",
    "test_loader = DataLoader(test_data, batch_size=batch_size, shuffle=True)"
   ]
  },
  {
   "cell_type": "code",
   "execution_count": 6,
   "id": "285c4a6e-4534-4ca6-8a26-e23619c85e41",
   "metadata": {},
   "outputs": [
    {
     "name": "stderr",
     "output_type": "stream",
     "text": [
      "/home/zeus/miniconda3/envs/cloudspace/lib/python3.10/site-packages/torchvision/models/_utils.py:208: UserWarning: The parameter 'pretrained' is deprecated since 0.13 and may be removed in the future, please use 'weights' instead.\n",
      "  warnings.warn(\n",
      "/home/zeus/miniconda3/envs/cloudspace/lib/python3.10/site-packages/torchvision/models/_utils.py:223: UserWarning: Arguments other than a weight enum or `None` for 'weights' are deprecated since 0.13 and may be removed in the future. The current behavior is equivalent to passing `weights=None`.\n",
      "  warnings.warn(msg)\n"
     ]
    }
   ],
   "source": [
    "# load CNN model ResNet18\n",
    "model = models.resnet18(pretrained=False)\n",
    "\n",
    "# setting number of classes\n",
    "num_classes = 3\n",
    "\n",
    "# setting the first convolution layer\n",
    "model.conv1 = nn.Conv2d(1, 64, kernel_size=(7, 7), stride=(2, 2), padding=(3, 3), bias=False)\n",
    "\n",
    "# number of input functions for the last layer\n",
    "num_features = model.fc.in_features\n",
    "\n",
    "# new fully connected layer\n",
    "model.fc = nn.Linear(num_features, num_classes)\n",
    "\n",
    "model.to(device)\n",
    "\n",
    "# loss function and optimizer\n",
    "criterion = nn.CrossEntropyLoss()\n",
    "optimizer = optim.Adam(model.parameters(), lr=learning_rate)"
   ]
  },
  {
   "cell_type": "code",
   "execution_count": 7,
   "id": "7358dce4-7ec8-4ec2-968f-6f9150f51a44",
   "metadata": {
    "scrolled": true
   },
   "outputs": [
    {
     "data": {
      "text/plain": [
       "ResNet(\n",
       "  (conv1): Conv2d(1, 64, kernel_size=(7, 7), stride=(2, 2), padding=(3, 3), bias=False)\n",
       "  (bn1): BatchNorm2d(64, eps=1e-05, momentum=0.1, affine=True, track_running_stats=True)\n",
       "  (relu): ReLU(inplace=True)\n",
       "  (maxpool): MaxPool2d(kernel_size=3, stride=2, padding=1, dilation=1, ceil_mode=False)\n",
       "  (layer1): Sequential(\n",
       "    (0): BasicBlock(\n",
       "      (conv1): Conv2d(64, 64, kernel_size=(3, 3), stride=(1, 1), padding=(1, 1), bias=False)\n",
       "      (bn1): BatchNorm2d(64, eps=1e-05, momentum=0.1, affine=True, track_running_stats=True)\n",
       "      (relu): ReLU(inplace=True)\n",
       "      (conv2): Conv2d(64, 64, kernel_size=(3, 3), stride=(1, 1), padding=(1, 1), bias=False)\n",
       "      (bn2): BatchNorm2d(64, eps=1e-05, momentum=0.1, affine=True, track_running_stats=True)\n",
       "    )\n",
       "    (1): BasicBlock(\n",
       "      (conv1): Conv2d(64, 64, kernel_size=(3, 3), stride=(1, 1), padding=(1, 1), bias=False)\n",
       "      (bn1): BatchNorm2d(64, eps=1e-05, momentum=0.1, affine=True, track_running_stats=True)\n",
       "      (relu): ReLU(inplace=True)\n",
       "      (conv2): Conv2d(64, 64, kernel_size=(3, 3), stride=(1, 1), padding=(1, 1), bias=False)\n",
       "      (bn2): BatchNorm2d(64, eps=1e-05, momentum=0.1, affine=True, track_running_stats=True)\n",
       "    )\n",
       "  )\n",
       "  (layer2): Sequential(\n",
       "    (0): BasicBlock(\n",
       "      (conv1): Conv2d(64, 128, kernel_size=(3, 3), stride=(2, 2), padding=(1, 1), bias=False)\n",
       "      (bn1): BatchNorm2d(128, eps=1e-05, momentum=0.1, affine=True, track_running_stats=True)\n",
       "      (relu): ReLU(inplace=True)\n",
       "      (conv2): Conv2d(128, 128, kernel_size=(3, 3), stride=(1, 1), padding=(1, 1), bias=False)\n",
       "      (bn2): BatchNorm2d(128, eps=1e-05, momentum=0.1, affine=True, track_running_stats=True)\n",
       "      (downsample): Sequential(\n",
       "        (0): Conv2d(64, 128, kernel_size=(1, 1), stride=(2, 2), bias=False)\n",
       "        (1): BatchNorm2d(128, eps=1e-05, momentum=0.1, affine=True, track_running_stats=True)\n",
       "      )\n",
       "    )\n",
       "    (1): BasicBlock(\n",
       "      (conv1): Conv2d(128, 128, kernel_size=(3, 3), stride=(1, 1), padding=(1, 1), bias=False)\n",
       "      (bn1): BatchNorm2d(128, eps=1e-05, momentum=0.1, affine=True, track_running_stats=True)\n",
       "      (relu): ReLU(inplace=True)\n",
       "      (conv2): Conv2d(128, 128, kernel_size=(3, 3), stride=(1, 1), padding=(1, 1), bias=False)\n",
       "      (bn2): BatchNorm2d(128, eps=1e-05, momentum=0.1, affine=True, track_running_stats=True)\n",
       "    )\n",
       "  )\n",
       "  (layer3): Sequential(\n",
       "    (0): BasicBlock(\n",
       "      (conv1): Conv2d(128, 256, kernel_size=(3, 3), stride=(2, 2), padding=(1, 1), bias=False)\n",
       "      (bn1): BatchNorm2d(256, eps=1e-05, momentum=0.1, affine=True, track_running_stats=True)\n",
       "      (relu): ReLU(inplace=True)\n",
       "      (conv2): Conv2d(256, 256, kernel_size=(3, 3), stride=(1, 1), padding=(1, 1), bias=False)\n",
       "      (bn2): BatchNorm2d(256, eps=1e-05, momentum=0.1, affine=True, track_running_stats=True)\n",
       "      (downsample): Sequential(\n",
       "        (0): Conv2d(128, 256, kernel_size=(1, 1), stride=(2, 2), bias=False)\n",
       "        (1): BatchNorm2d(256, eps=1e-05, momentum=0.1, affine=True, track_running_stats=True)\n",
       "      )\n",
       "    )\n",
       "    (1): BasicBlock(\n",
       "      (conv1): Conv2d(256, 256, kernel_size=(3, 3), stride=(1, 1), padding=(1, 1), bias=False)\n",
       "      (bn1): BatchNorm2d(256, eps=1e-05, momentum=0.1, affine=True, track_running_stats=True)\n",
       "      (relu): ReLU(inplace=True)\n",
       "      (conv2): Conv2d(256, 256, kernel_size=(3, 3), stride=(1, 1), padding=(1, 1), bias=False)\n",
       "      (bn2): BatchNorm2d(256, eps=1e-05, momentum=0.1, affine=True, track_running_stats=True)\n",
       "    )\n",
       "  )\n",
       "  (layer4): Sequential(\n",
       "    (0): BasicBlock(\n",
       "      (conv1): Conv2d(256, 512, kernel_size=(3, 3), stride=(2, 2), padding=(1, 1), bias=False)\n",
       "      (bn1): BatchNorm2d(512, eps=1e-05, momentum=0.1, affine=True, track_running_stats=True)\n",
       "      (relu): ReLU(inplace=True)\n",
       "      (conv2): Conv2d(512, 512, kernel_size=(3, 3), stride=(1, 1), padding=(1, 1), bias=False)\n",
       "      (bn2): BatchNorm2d(512, eps=1e-05, momentum=0.1, affine=True, track_running_stats=True)\n",
       "      (downsample): Sequential(\n",
       "        (0): Conv2d(256, 512, kernel_size=(1, 1), stride=(2, 2), bias=False)\n",
       "        (1): BatchNorm2d(512, eps=1e-05, momentum=0.1, affine=True, track_running_stats=True)\n",
       "      )\n",
       "    )\n",
       "    (1): BasicBlock(\n",
       "      (conv1): Conv2d(512, 512, kernel_size=(3, 3), stride=(1, 1), padding=(1, 1), bias=False)\n",
       "      (bn1): BatchNorm2d(512, eps=1e-05, momentum=0.1, affine=True, track_running_stats=True)\n",
       "      (relu): ReLU(inplace=True)\n",
       "      (conv2): Conv2d(512, 512, kernel_size=(3, 3), stride=(1, 1), padding=(1, 1), bias=False)\n",
       "      (bn2): BatchNorm2d(512, eps=1e-05, momentum=0.1, affine=True, track_running_stats=True)\n",
       "    )\n",
       "  )\n",
       "  (avgpool): AdaptiveAvgPool2d(output_size=(1, 1))\n",
       "  (fc): Linear(in_features=512, out_features=3, bias=True)\n",
       ")"
      ]
     },
     "execution_count": 7,
     "metadata": {},
     "output_type": "execute_result"
    }
   ],
   "source": [
    "model.eval()"
   ]
  },
  {
   "cell_type": "code",
   "execution_count": 8,
   "id": "c2c88759-900a-4eac-927c-bcd8fa3cf484",
   "metadata": {},
   "outputs": [],
   "source": [
    "# log setting\n",
    "current_time = datetime.datetime.now()\n",
    "log_file = f'./model_checkpoint/training_log{current_time.strftime(\"%Y-%m-%d_%H-%M-%S\")}.txt'\n",
    "model_save_path = f'./model_checkpoint/model_{current_time.strftime(\"%Y-%m-%d_%H-%M-%S\")}.pt'"
   ]
  },
  {
   "cell_type": "code",
   "execution_count": 9,
   "id": "d2866f2e-3c2c-487f-9506-b766270a34d9",
   "metadata": {},
   "outputs": [],
   "source": [
    "def train_and_validate(epoch, model):\n",
    "    \n",
    "    # training\n",
    "    print(f\"epoch {epoch + 1}/{num_epochs}\")\n",
    "    \n",
    "    # set model to training mode\n",
    "    model.train()\n",
    "    \n",
    "    running_loss = 0.0\n",
    "    for i, (images, labels) in enumerate(train_loader):\n",
    "        images, labels = images.to(device), labels.to(device)\n",
    "        labels = labels.long()\n",
    "        \n",
    "        # gradient cleaning\n",
    "        optimizer.zero_grad()\n",
    "        \n",
    "        # forward\n",
    "        outputs = model(images)\n",
    "        loss = criterion(outputs, labels)\n",
    "    \n",
    "        # backward\n",
    "        loss.backward()\n",
    "        optimizer.step()\n",
    "    \n",
    "    train_loss.append(loss.cpu())\n",
    "    \n",
    "    # validation\n",
    "    model.eval()\n",
    "    \n",
    "    test_loss = 0.0\n",
    "    accuracy = 0\n",
    "    total = 0\n",
    "    \n",
    "    with torch.no_grad():\n",
    "        for images, labels in test_loader:\n",
    "            images, labels = images.to(device), labels.to(device)\n",
    "            labels = labels.long()\n",
    "    \n",
    "            outputs = model(images)\n",
    "    \n",
    "            # calculation loss and accuracy on test data\n",
    "            test_loss += criterion(outputs, labels).item()\n",
    "            _, predicted = torch.max(outputs.data, 1)\n",
    "            total += labels.size(0)\n",
    "            accuracy += (predicted == labels).sum().item()\n",
    "    \n",
    "    test_loss /= len(test_loader)\n",
    "    accuracy /= total\n",
    "    \n",
    "    train_acc.append(accuracy)\n",
    "    \n",
    "    # Recording data on training results to a log file\n",
    "    with open(log_file, 'a') as f:\n",
    "        f.write(f'test_loss: {test_loss:.4f} | test_accuracy: {accuracy:.4f}')\n",
    "        f.write('\\n')\n",
    "    \n",
    "    print(f'test_loss: {test_loss:.4f} | test_accuracy: {accuracy:.4f}')\n",
    "\n",
    "    return test_loss, model"
   ]
  },
  {
   "cell_type": "code",
   "execution_count": 10,
   "id": "2f82f545-9d89-448a-8fd2-de8511113446",
   "metadata": {},
   "outputs": [],
   "source": [
    "# Хранение истории потерь и точности\n",
    "train_loss = []\n",
    "train_acc = []"
   ]
  },
  {
   "cell_type": "code",
   "execution_count": 11,
   "id": "38b729e9-9583-49c9-8b5e-6d04596cf663",
   "metadata": {},
   "outputs": [
    {
     "name": "stdout",
     "output_type": "stream",
     "text": [
      "epoch 1/20\n",
      "test_loss: 4.1820 | test_accuracy: 0.3987\n",
      "Best weights on 1 EPOCH\n",
      "\n",
      "epoch 2/20\n",
      "test_loss: 0.7556 | test_accuracy: 0.7320\n",
      "Best weights on 2 EPOCH\n",
      "\n",
      "epoch 3/20\n",
      "test_loss: 0.7353 | test_accuracy: 0.7487\n",
      "Best weights on 3 EPOCH\n",
      "\n",
      "epoch 4/20\n",
      "test_loss: 0.7266 | test_accuracy: 0.7831\n",
      "Best weights on 4 EPOCH\n",
      "\n",
      "epoch 5/20\n",
      "test_loss: 1.3125 | test_accuracy: 0.7380\n",
      "epoch 6/20\n",
      "test_loss: 0.7235 | test_accuracy: 0.8354\n",
      "Best weights on 6 EPOCH\n",
      "\n",
      "epoch 7/20\n",
      "test_loss: 0.7285 | test_accuracy: 0.8164\n",
      "epoch 8/20\n",
      "test_loss: 0.9301 | test_accuracy: 0.7796\n",
      "epoch 9/20\n",
      "test_loss: 0.8698 | test_accuracy: 0.7897\n",
      "epoch 10/20\n",
      "test_loss: 1.2411 | test_accuracy: 0.7190\n",
      "epoch 11/20\n",
      "test_loss: 0.8426 | test_accuracy: 0.8105\n",
      "Early stopping triggered after 5 epochs without improvement.\n"
     ]
    }
   ],
   "source": [
    "best_loss = float('inf')\n",
    "epochs_without_improvement = 0\n",
    "early_stopping_threshold = 5\n",
    "\n",
    "# training loop\n",
    "for epoch in range(num_epochs):\n",
    "    test_loss, model = train_and_validate(epoch, model)\n",
    "    \n",
    "    if test_loss < best_loss:\n",
    "        best_loss = test_loss\n",
    "        best_weights = model.state_dict()\n",
    "        print(f'Best weights on {epoch + 1} EPOCH')\n",
    "        print()\n",
    "        epochs_without_improvement = 0\n",
    "    else:\n",
    "        epochs_without_improvement += 1\n",
    "        \n",
    "    if epochs_without_improvement >= early_stopping_threshold:\n",
    "        print(\"Early stopping triggered after {} epochs without improvement.\".format(epochs_without_improvement))\n",
    "        break\n"
   ]
  },
  {
   "cell_type": "code",
   "execution_count": 12,
   "id": "3af1e624-6be3-4e4a-a4a3-2518468bd766",
   "metadata": {},
   "outputs": [
    {
     "name": "stderr",
     "output_type": "stream",
     "text": [
      "/home/zeus/miniconda3/envs/cloudspace/lib/python3.10/site-packages/torch/nn/modules/module.py:1877: UserWarning: Positional args are being deprecated, use kwargs instead. Refer to https://pytorch.org/docs/master/generated/torch.nn.Module.html#torch.nn.Module.state_dict for details.\n",
      "  warnings.warn(\n"
     ]
    }
   ],
   "source": [
    "# Saving the model state\n",
    "torch.save(model.state_dict(best_weights), model_save_path)"
   ]
  },
  {
   "cell_type": "code",
   "execution_count": 13,
   "id": "6f5e562f-a9d6-4a8b-8fde-e74358da0788",
   "metadata": {},
   "outputs": [],
   "source": [
    "import matplotlib.pyplot as plt\n",
    "import torch.optim.lr_scheduler as lr_scheduler"
   ]
  },
  {
   "cell_type": "code",
   "execution_count": 14,
   "id": "16860e31-007d-4150-86ea-b58fd8d00db3",
   "metadata": {},
   "outputs": [],
   "source": [
    "# Create a catalog to save the graphs\n",
    "if not os.path.exists('training_graphs'):\n",
    "    os.makedirs('training_graphs')"
   ]
  },
  {
   "cell_type": "code",
   "execution_count": 15,
   "id": "05abf506-3534-4bf2-82ab-aeaf46e16d22",
   "metadata": {},
   "outputs": [
    {
     "data": {
      "image/png": "[encoded data removed]",
      "text/plain": [
       "<Figure size 1000x600 with 1 Axes>"
      ]
     },
     "metadata": {},
     "output_type": "display_data"
    }
   ],
   "source": [
    "# the loss graph\n",
    "plt.figure(figsize=(10, 6))\n",
    "\n",
    "train_loss_tensor = torch.tensor(train_loss) \n",
    "train_loss_detached = train_loss_tensor.detach()\n",
    "\n",
    "plt.plot(train_loss_detached.numpy(), label='Training Loss')  \n",
    "plt.xlabel('Epoch')\n",
    "plt.ylabel('Loss')\n",
    "plt.title('Training Loss History')\n",
    "plt.legend()\n",
    "plt.grid(True)\n",
    "\n",
    "# Saving the loss graph\n",
    "plt.savefig(os.path.join('training_graphs', 'training_loss.png'))\n",
    "plt.show()\n",
    "plt.close()"
   ]
  },
  {
   "cell_type": "code",
   "execution_count": 16,
   "id": "631c9ed4-4059-4abd-b82b-e4e40829994e",
   "metadata": {},
   "outputs": [
    {
     "data": {
      "image/png": "[encoded data removed]",
      "text/plain": [
       "<Figure size 1000x600 with 1 Axes>"
      ]
     },
     "metadata": {},
     "output_type": "display_data"
    }
   ],
   "source": [
    "# the accuracy graph\n",
    "plt.figure(figsize=(10, 6))\n",
    "plt.plot(train_acc, label='Training Accuracy')\n",
    "plt.xlabel('Epoch')\n",
    "plt.ylabel('Accuracy')\n",
    "plt.title('Training Accuracy History')\n",
    "plt.legend()\n",
    "plt.grid(True)\n",
    "\n",
    "# Saving the accuracy graph\n",
    "plt.savefig(os.path.join('training_graphs', 'training_accuracy.png'))\n",
    "plt.show()\n",
    "plt.close()"
   ]
  },
  {
   "cell_type": "code",
   "execution_count": null,
   "id": "6747969c-0506-4255-bf8e-333351b56549",
   "metadata": {},
   "outputs": [],
   "source": []
  },
  {
   "cell_type": "code",
   "execution_count": null,
   "id": "394d575e-7bda-40c5-adbd-61c8baeb2a8b",
   "metadata": {},
   "outputs": [],
   "source": []
  }
 ],
 "metadata": {
  "kernelspec": {
   "display_name": "Python 3",
   "language": "python",
   "name": "python3"
  },
  "language_info": {
   "codemirror_mode": {
    "name": "ipython",
    "version": 3
   },
   "file_extension": ".py",
   "mimetype": "text/x-python",
   "name": "python",
   "nbconvert_exporter": "python",
   "pygments_lexer": "ipython3",
   "version": "3.10.10"
  }
 },
 "nbformat": 4,
 "nbformat_minor": 5
}
